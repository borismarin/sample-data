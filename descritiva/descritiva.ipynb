{
 "cells": [
  {
   "cell_type": "markdown",
   "id": "107eb887",
   "metadata": {
    "id": "107eb887"
   },
   "source": [
    "## Estatística descritiva com dados reais\n",
    "\n",
    "A ideia aqui é coletar e curar conjuntos de dados livremente disponíveis na rede, para serem usados de exemplo em cursos de estatística.\n",
    "\n",
    "Potenciais candidatos:\n",
    "- [sinasc](http://sinasc.saude.gov.br/default.asp)\n",
    "- [dados cólera John Snow](https://www.r-bloggers.com/2013/03/john-snows-cholera-data-in-more-formats/)\n",
    ""
   ]
  },
  {
   "cell_type": "markdown",
   "id": "8741e05a",
   "metadata": {
    "id": "8741e05a"
   },
   "source": [
    "## O que queremos ilustrar\n",
    "\n",
    "- A importânica da representação gráfica\n",
    "   - barras / pizzas / dot\n",
    "- Distribuições (conjuntos grandes de dados contínuos)\n"
   ]
  },
  {
   "cell_type": "code",
   "execution_count": 1,
   "id": "59e46823",
   "metadata": {
    "id": "59e46823"
   },
   "outputs": [],
   "source": [
    "%matplotlib notebook"
   ]
  },
  {
   "cell_type": "code",
   "execution_count": 2,
   "id": "37fafc28",
   "metadata": {
    "id": "37fafc28",
    "scrolled": true
   },
   "outputs": [],
   "source": [
    "import pandas as pd\n",
    "import matplotlib.pyplot as plt\n",
    "import numpy as np"
   ]
  },
  {
   "cell_type": "code",
   "execution_count": null,
   "id": "ab7a77d8",
   "metadata": {
    "id": "ab7a77d8"
   },
   "outputs": [],
   "source": []
  }
 ],
 "metadata": {
  "colab": {
   "provenance": []
  },
  "kernelspec": {
   "display_name": "Python 3 (ipykernel)",
   "language": "python",
   "name": "python3"
  },
  "language_info": {
   "codemirror_mode": {
    "name": "ipython",
    "version": 3
   },
   "file_extension": ".py",
   "mimetype": "text/x-python",
   "name": "python",
   "nbconvert_exporter": "python",
   "pygments_lexer": "ipython3",
   "version": "3.10.4"
  }
 },
 "nbformat": 4,
 "nbformat_minor": 5
}
