{
 "cells": [
  {
   "cell_type": "markdown",
   "metadata": {},
   "source": [
    "# Integração numérica de dinâmicas simples\n",
    "\n",
    "Atividade a ser entregue individualmente via Moodle (prazo: 7/7). Idealmente, basta submeter um *Jupyter notebook* com código, figuras e anotações; caso não esteja usando *notebooks*, submeter arquivos de código e um *pdf* com as figuras e comentários.\n"
   ]
  },
  {
   "cell_type": "markdown",
   "metadata": {},
   "source": [
    "## A classe de dinâmicas de interesse\n",
    "\n",
    "Ao discutir modelos mínimos para neurônios, determinamos as condições para que uma dinâmica unidimensional tenha um ponto de equilíbrio estável, correspondente ao potencial de repouso de um neurônio.\n",
    "\n",
    "Vimos que, para tanto, basta que a dinâmica (derivada) tenha uma raiz no potencial de equilíbrio (derivada nula implica que não saímos do ponto, ou seja, é um equilíbrio), e que perto deste ponto a função \"se pareça\" com uma reta de inclinação negativa (para que, se perturbarmos o estado para fora do equilíbrio, a dinâmica o traga de volta):\n",
    "<p>\n",
    "<img style=\"height:200px\" height=\"200px\" src=\"https://github.com/borismarin/sample-data/raw/master/neuro-comp/iaf.png\" align=\"center\"/>\n",
    "</p>\n"
   ]
  },
  {
   "cell_type": "markdown",
   "metadata": {},
   "source": [
    "Vimos também que, ao aplicar a conservação da carga elétrica a um circuito RC em paralelo (conforme figura), obtemos uma dinâmica deste tipo para o potencial elétrico $V$ sobre o capacitor:\n",
    "<p>\n",
    "<img style=\"height:200px\" height=\"200px\" src=\"https://github.com/borismarin/sample-data/raw/master/neuro-comp/rc.png\" align=\"center\"/>\n",
    "</p>\n",
    "$$\n",
    "\\tag{1}\n",
    "\\frac{\\mathrm{d}V}{\\mathrm{d}t} = -\\frac{V}{RC}\n",
    "$$\n",
    "\n",
    "0. Faça um desenho similar à primeira figura acima, mas para a dinâmica do circuito RC. Preste atenção (coloque no seu desenho) no valor do ponto de equilíbrio e na inclinação da reta."
   ]
  },
  {
   "cell_type": "markdown",
   "metadata": {},
   "source": [
    "## Resolvendo a equação analiticamente\n",
    "\n",
    "A equação para o circuito RC acima pode ser resolvida analiticamente de forma imediata (veja só: o que ela diz, essencialmente, é \"qual é a função cuja derivada é ela mesma multiplicada por uma constante?\"). Caso você não ache que é imediato, vale a pena dar uma relembradinha em FUV (especificamente, derivadas de funções exponenciais e regra da cadeia).\n",
    "\n",
    "1. Resolva a equação do circuito RC (eq. 1 acima) analiticamente, ou seja, encontre a função $V(t)$, supondo que o potencial incial $V(t=0)$ sobre o capacitor é $V_0$. "
   ]
  },
  {
   "cell_type": "markdown",
   "metadata": {},
   "source": [
    "## Resolvendo a equação numericamente\n",
    "\n",
    "Não são todas as equações diferenciais que podem ser resolvidas analiticamente. Isso não significa que estas equações não tenham soluções: em muitos casos, podemos utilizar métodos numéricos (que são estudados em mais detalhe no curso de Cálculo Numérico) para obter soluções aproximadas.\n",
    "\n",
    "### Método de Euler\n",
    "A maneira mais simples de resolver uma equação diferencial numericamente é utilizando o Método de Euler. Para entender como ele funciona, basta entender a definição de derivada, retratada na figura abaixo:\n",
    "\n",
    "<p>\n",
    "<img style=\"height:200px\" height=\"200px\" src=\"https://github.com/borismarin/sample-data/raw/master/neuro-comp/deltax.png\" align=\"center\"/>\n",
    "</p>\n",
    "\n",
    "Para calcular a inclinação da reta tangente ao gráfico da função $y(t)$ (vermelho) no ponto $P$, começamos com a reta secante (azul) passando por P e Q, cuja inclinação é $\\frac{y(t_0+h)-y(t_0)}{h}$. Conforme trazemos Q mais para perto de P (diminuímos $h$), vamos tendo aproximações sucessivamente melhores para a reta tangente. No limite de Q indo a P ($h\\to 0$), chegamos à definição de derivada:\n",
    "$$\n",
    "y'(t_0) = \\lim_{h\\to 0}\\frac{y(t_0+h)-y(t_0)}{h}\\tag{2}\n",
    "$$\n",
    "\n",
    "Ao resolver uma equação diferencial, queremos determinar $y(t)$ dadas suas derivadas: se a equação for de primeira ordem (o único tipo que trataremos neste curso), queremos determinar $y(t)$ dada uma expressão para sua primeira derivada $y'=f(t,y)$ (note que a derivada pode ser uma função tanto de $y$ quanto de $t$) e uma condição inicial $y(t_0)$. Isso se chama um _problema de valor inicial_. \n",
    "\n",
    "Note que a definição de derivada (eq 2) acima nos fornece uma relação entre $y'$ e o valor $y$ nos instantes $t_0$ e $t_0+h$, com h infinitesimal. Considerando agora um valor finito (mas pequeno) para $h$, temos uma aproximação numérica para a derivada:\n",
    "\n",
    "$$\n",
    "y'(t_0) \\approx \\frac{y(t_0+h)-y(t_0)}{h}\n",
    "$$\n",
    "\n",
    "Rearranjando a equação acima, podemos obter um valor aproximado para $y(t_0+h)$, dados $y(t_0)$ e $y'=f(t, y)$:\n",
    "\n",
    "$$\n",
    "y(t_0+h) \\approx y(t_0) + hf(t_0, y_0)\\tag{3}\n",
    "$$\n",
    "\n",
    "Considerando que a variável independente (para nossos propósitos, sempre o tempo) avança em passos discretos de tamanho $h$, (ou seja, $[t_0, \\underbrace{t_0+h}_{t_1}, \\ldots]$), vamos gerando iterativamente aproximações para $y_i$ segundo a equação 3:\n",
    "\n",
    "\n",
    "$$\\tag{4}\n",
    "y_{i+1} = y_i + h f(t_i, y_i)\n",
    "$$\n",
    "\n",
    "\n",
    "Ou seja, calculamos o próximo valor $y_{i+1}$ a partir do valor atual $y_i$ e do valor atual da derivada  $f(t_i, x_i)$. Este é o **Método de Euler**.\n",
    "\n"
   ]
  },
  {
   "cell_type": "markdown",
   "metadata": {},
   "source": [
    "## Exercitando\n",
    "\n",
    "Para exercitar tanto o conteúdo visto acima quanto nossas habilidades em programação, vamos escrever um programa que implemente o Método de Euler (eq. 4) para resolver a equação do circuito RC (para a qual você obteve a solução analítica). Comparar os dois resultados é uma boa forma de determinar se seu código está funcionando. \n",
    "\n",
    "Abaixo, há uma célula de código com uma estrutura sugerida para o código. Leia, **entenda** sua relação com o algoritmo descrito acima, e preencha as partes incompletas do código."
   ]
  },
  {
   "cell_type": "code",
   "execution_count": null,
   "metadata": {},
   "outputs": [],
   "source": [
    "import numpy as np\n",
    "\n",
    "# dinâmica para o potencial sobre o capacitor num circuito RC (dV/dt)\n",
    "def circuito_rc(t, V, R=1, C=1):\n",
    "    return - V / (R*C)\n",
    "\n",
    "# Parâmetros para solução da equação diferencial \n",
    "passos = 1000   # quantos passos dar\n",
    "h = 0.01  # passo de integração\n",
    "Vzero = 1  # condição inicial V(t=0) \n",
    "\n",
    "# Criamos espaço \"em branco\" para armazenar os valores calculados\n",
    "t = np.zeros(passos)  # Array para valores do tempo t_i\n",
    "V = np.zeros(passos)  # Array para valores dos potenciais V_i\n",
    "V[0] = Vzero  # O primeiro valor de V é a condição inicial\n",
    "\n",
    "\n",
    "for i in range(passos - 1):  # avançando cada passo \n",
    "    t[i + 1] = t[i] + h  # atualizamos e armazenamos o tempo\n",
    "    V[i + 1] =  ???  # implemente o passo do Método de Euler aqui!\n",
    " "
   ]
  },
  {
   "cell_type": "markdown",
   "metadata": {},
   "source": [
    "## Resolvendo o circuito RC numericamente\n",
    "\n",
    "2. Integre a dinâmica do circuito RC usando o programa escrito acima. Faça gráficos de séries temporais $V(t)$ e discuta:\n",
    "  - qual é o efeito de mudanças na condição inicial $V(t=0$)?\n",
    "  - qual é efeito de mudanças nos parâmetros $R, C$ do circuito?\n",
    "\n",
    "\n",
    "3. Compare o resultado de uma integração numérica em particular (tome $R=C=V_0=1$ e dê 1000 passos de tamanho $h=0.01$. Qual é o tempo total de integração nestes caso?) com a solução analítica encontrada no item (1) desta lista (faça um gráfico superpondo ambas as curvas). \n",
    "\n",
    "\n",
    "4. Mantendo o tempo total de integração constante (produto do número de passos pelo tamanho do passo), veja até quanto é possível aumentar `h` antes de começarem a aparecer erros numéricos sérios (use a solução analítica como referência). Note que quanto menos passos dermos para atingir o tempo final de integração, mais rápido terminará nosso programa − então, é interessante poder aumentar $h$, mas sempre tomando cuidado com o erro numérico!"
   ]
  }
 ],
 "metadata": {
  "celltoolbar": "Edit Metadata",
  "kernelspec": {
   "display_name": "Python 3 (ipykernel)",
   "language": "python",
   "name": "python3"
  },
  "language_info": {
   "codemirror_mode": {
    "name": "ipython",
    "version": 3
   },
   "file_extension": ".py",
   "mimetype": "text/x-python",
   "name": "python",
   "nbconvert_exporter": "python",
   "pygments_lexer": "ipython3",
   "version": "3.9.5"
  }
 },
 "nbformat": 4,
 "nbformat_minor": 2
}
